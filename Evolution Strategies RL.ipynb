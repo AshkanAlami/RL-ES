{
 "cells": [
  {
   "cell_type": "code",
   "execution_count": 1,
   "id": "d93e13b1",
   "metadata": {},
   "outputs": [],
   "source": [
    "import gym\n",
    "import time\n",
    "import numpy as np\n",
    "import math\n",
    "\n",
    "import torch \n",
    "import torch.nn as nn\n",
    "import matplotlib.pyplot as plt"
   ]
  },
  {
   "cell_type": "markdown",
   "id": "1287d6bd",
   "metadata": {},
   "source": [
    "### Defining the environment and a network. Also, functions for evaluating the agent and rendering it"
   ]
  },
  {
   "cell_type": "code",
   "execution_count": 2,
   "id": "9fd0f8dc",
   "metadata": {},
   "outputs": [],
   "source": [
    "env = gym.make('CartPole-v1')\n",
    "env._max_episode_steps = 200\n",
    "# env = gym.make('LunarLander-v2')\n"
   ]
  },
  {
   "cell_type": "code",
   "execution_count": 3,
   "id": "95a715b7",
   "metadata": {},
   "outputs": [
    {
     "name": "stdout",
     "output_type": "stream",
     "text": [
      "Net(\n",
      "  (net): Sequential(\n",
      "    (0): Linear(in_features=4, out_features=8, bias=True)\n",
      "    (1): ReLU()\n",
      "    (2): Linear(in_features=8, out_features=2, bias=True)\n",
      "    (3): Softmax(dim=1)\n",
      "  )\n",
      ")\n"
     ]
    }
   ],
   "source": [
    "class Net(nn.Module):\n",
    "    def __init__(self, obs_size, action_size):\n",
    "        super(Net, self).__init__()\n",
    "        self.net = nn.Sequential(\n",
    "            nn.Linear(obs_size, 8),\n",
    "            nn.ReLU(),\n",
    "#             nn.Linear(256, 128),\n",
    "#             nn.ReLU(),\n",
    "            nn.Linear(8, action_size),\n",
    "            nn.Softmax(dim=1)\n",
    "        )\n",
    "\n",
    "    def forward(self, x):\n",
    "        return self.net(x)\n",
    "    \n",
    "net = Net(env.observation_space.shape[0],env.action_space.n)\n",
    "print(net)"
   ]
  },
  {
   "cell_type": "code",
   "execution_count": 4,
   "id": "2d4c91e6",
   "metadata": {},
   "outputs": [],
   "source": [
    "def evaluate(env, net):\n",
    "    rewards = 0\n",
    "    steps = 0\n",
    "    done = False\n",
    "    state = env.reset()\n",
    "    while not done:\n",
    "        state = torch.FloatTensor([state])\n",
    "        prob = net(state)\n",
    "        acts = prob.max(dim=1)[1]\n",
    "        new_state, reward, done, _ = env.step(acts.data.numpy()[0])\n",
    "        rewards += reward\n",
    "        state = new_state\n",
    "        steps += 1\n",
    "    \n",
    "    return rewards, steps"
   ]
  },
  {
   "cell_type": "code",
   "execution_count": 5,
   "id": "5a1600cb",
   "metadata": {},
   "outputs": [],
   "source": [
    "def render_agent(env,net):\n",
    "    done = False\n",
    "    state = env.reset()\n",
    "    while not done:\n",
    "        env.render()\n",
    "        state = torch.FloatTensor([state])\n",
    "        prob = net(state)\n",
    "        acts = prob.max(dim=1)[1]\n",
    "        new_state, reward, done, _ = env.step(acts.data.numpy()[0])\n",
    "        state = new_state\n",
    "    env.close()"
   ]
  },
  {
   "cell_type": "markdown",
   "id": "09381137",
   "metadata": {},
   "source": [
    "## ($\\mu$,$\\lambda$)-ES  "
   ]
  },
  {
   "cell_type": "markdown",
   "id": "49d58834",
   "metadata": {},
   "source": [
    "### Static "
   ]
  },
  {
   "cell_type": "code",
   "execution_count": 6,
   "id": "e943c626",
   "metadata": {},
   "outputs": [],
   "source": [
    "net = Net(env.observation_space.shape[0],env.action_space.n)"
   ]
  },
  {
   "cell_type": "code",
   "execution_count": 7,
   "id": "370397d2",
   "metadata": {},
   "outputs": [],
   "source": [
    "def evolution_strategy_V2(\n",
    "    f,\n",
    "    children_size,\n",
    "    sigma,\n",
    "    num_iters,\n",
    "    net,\n",
    "    parent_size,\n",
    "    print_reward = False):\n",
    "\n",
    "    #assume initial params is a 1-D array\n",
    "    reward_per_iteration = np.zeros(num_iters)\n",
    "    best_rewards = np.zeros(num_iters)\n",
    "    \n",
    "    population_size = children_size\n",
    "    #params = initial_params\n",
    "    param_vec = []\n",
    "    param_vec.append(nn.utils.parameters_to_vector(net.parameters()))\n",
    "    \n",
    "    param_size = param_vec[0].size()[0]\n",
    "    \n",
    "    for t in range(num_iters):\n",
    "        N = np.random.randn(len(param_vec), population_size, param_size)\n",
    "        N = torch.from_numpy(N.astype(np.float32))\n",
    "        R = np.zeros((len(param_vec) ) * (population_size)) # stores the reward\n",
    "        \n",
    "        parent_indx = np.zeros((len(param_vec)) * (population_size) )\n",
    "        NN = []\n",
    "        index_counter = 0\n",
    "        \n",
    "        #loop through each parent\n",
    "        for i in range(len(param_vec)):\n",
    "            \n",
    "            # loop through each \"offspring\"\n",
    "            for j in range(population_size):\n",
    "                params_try = param_vec[i] + sigma*N[i][j]\n",
    "                nn.utils.vector_to_parameters(params_try, net.parameters())\n",
    "                R[index_counter], _ = f(env,net)\n",
    "                parent_indx[index_counter] = i\n",
    "                NN.append( N[i][j] )\n",
    "                index_counter += 1\n",
    "            \n",
    "\n",
    "        m = R.mean()\n",
    "             \n",
    "        reward_per_iteration[t] = m\n",
    "        top_index = np.argpartition(R, -parent_size)[-parent_size:]\n",
    "        param_vec2 = []\n",
    "        best_rewards[t] = max(R)\n",
    "\n",
    "        for i in top_index:\n",
    "            param_vec2.append(param_vec[int(parent_indx[i])].detach().numpy() + sigma * NN[i].detach().numpy())\n",
    "\n",
    "\n",
    "        param_vec.clear()\n",
    "        param_vec = param_vec2.copy()\n",
    "        param_vec2.clear()\n",
    "\n",
    "        \n",
    "        for i in range(len(param_vec)):\n",
    "            param_vec[i] = torch.Tensor(param_vec[i])\n",
    "        if print_reward and t%25 == 0:\n",
    "            print(f\"iteration {t}, rewards mean: {m}, best reward: {max(R)}\")\n",
    "\n",
    "    return param_vec, reward_per_iteration, best_rewards"
   ]
  },
  {
   "cell_type": "code",
   "execution_count": 8,
   "id": "8707f783",
   "metadata": {},
   "outputs": [
    {
     "name": "stdout",
     "output_type": "stream",
     "text": [
      "iteration 0, rewards mean: 16.0, best reward: 30.0\n",
      "iteration 25, rewards mean: 103.4, best reward: 200.0\n",
      "iteration 50, rewards mean: 109.5, best reward: 200.0\n",
      "iteration 75, rewards mean: 128.7, best reward: 200.0\n",
      "iteration 100, rewards mean: 186.0, best reward: 200.0\n",
      "iteration 125, rewards mean: 195.9, best reward: 200.0\n"
     ]
    },
    {
     "data": {
      "image/png": "[encoded data removed]",
      "text/plain": [
       "<Figure size 432x288 with 1 Axes>"
      ]
     },
     "metadata": {
      "needs_background": "light"
     },
     "output_type": "display_data"
    }
   ],
   "source": [
    "best_params, rewards, best_rewards = evolution_strategy_V2(\n",
    "    f=evaluate,\n",
    "    children_size= 5,\n",
    "    sigma=1,\n",
    "    num_iters=150,\n",
    "    net=net,\n",
    "    parent_size= 2,\n",
    "    print_reward = True,\n",
    "    \n",
    ")\n",
    "\n",
    "# plot the rewards per iteration\n",
    "plt.plot(rewards, label = 'mean')\n",
    "plt.plot(best_rewards, label = 'best reward')\n",
    "plt.legend()\n",
    "plt.show()"
   ]
  },
  {
   "cell_type": "markdown",
   "id": "5a8672bc",
   "metadata": {},
   "source": [
    "### Adaptive:  1/5 rule"
   ]
  },
  {
   "cell_type": "code",
   "execution_count": 9,
   "id": "73fffc00",
   "metadata": {},
   "outputs": [],
   "source": [
    "net = Net(env.observation_space.shape[0],env.action_space.n)"
   ]
  },
  {
   "cell_type": "code",
   "execution_count": 10,
   "id": "15425804",
   "metadata": {},
   "outputs": [],
   "source": [
    "def evolution_strategy_V2_adaptive(\n",
    "    f,\n",
    "    children_size,\n",
    "    sigma,\n",
    "    num_iters,\n",
    "    net,\n",
    "    parent_size,\n",
    "    print_reward = False,\n",
    "    k = 10,\n",
    "    C = 0.8):\n",
    "    \n",
    "    population_size = children_size\n",
    "    \n",
    "    #assume initial params is a 1-D array\n",
    "    reward_per_iteration = np.zeros(num_iters)\n",
    "    best_rewards = np.zeros(num_iters)\n",
    "    \n",
    "    #params = initial_params\n",
    "    param_vec = []\n",
    "    param_vec.append(nn.utils.parameters_to_vector(net.parameters()))\n",
    "    \n",
    "    param_size = param_vec[0].size()[0]\n",
    "    \n",
    "    for t in range(num_iters):\n",
    "        N = np.random.randn(len(param_vec), population_size, param_size)\n",
    "        N = torch.from_numpy(N.astype(np.float32))\n",
    "        R = np.zeros((len(param_vec) ) * (population_size)) # stores the reward\n",
    "        \n",
    "        parent_indx = np.zeros((len(param_vec)) * (population_size) )\n",
    "        NN = []\n",
    "        index_counter = 0\n",
    "        \n",
    "        #loop through each parent\n",
    "        for i in range(len(param_vec)):\n",
    "            \n",
    "            # loop through each \"offspring\"\n",
    "            for j in range(population_size):\n",
    "                params_try = param_vec[i] + sigma*N[i][j]\n",
    "                nn.utils.vector_to_parameters(params_try, net.parameters())\n",
    "                R[index_counter], _ = f(env,net)\n",
    "                parent_indx[index_counter] = i\n",
    "                NN.append( N[i][j] )\n",
    "                index_counter += 1\n",
    "        \n",
    "        m = R.mean()\n",
    "             \n",
    "        reward_per_iteration[t] = m\n",
    "        top_index = np.argpartition(R, -parent_size)[-parent_size:]\n",
    "        param_vec2 = []\n",
    "        best_rewards[t] = max(R)\n",
    "\n",
    "        for i in top_index:\n",
    "            param_vec2.append(param_vec[int(parent_indx[i])].detach().numpy() + sigma * NN[i].detach().numpy())\n",
    "\n",
    "\n",
    "        param_vec.clear()\n",
    "        param_vec = param_vec2.copy()\n",
    "        param_vec2.clear()\n",
    "\n",
    "        for i in range(len(param_vec)):\n",
    "            param_vec[i] = torch.Tensor(param_vec[i])\n",
    "        if print_reward and t%25 == 0:\n",
    "            print(f\"iteration {t}, rewards mean: {m}, best reward: {max(R)}\")\n",
    "            \n",
    "            \n",
    "        if t % k == 0:\n",
    "            av_k = (np.array(reward_per_iteration[-k-1:-1])/m).astype('int32').sum()\n",
    "            if  av_k > 1/5:\n",
    "                sigma = sigma/C\n",
    "            elif av_k < 1/5:\n",
    "                sigma = sigma*C\n",
    "\n",
    "    return param_vec, reward_per_iteration, best_rewards"
   ]
  },
  {
   "cell_type": "code",
   "execution_count": 11,
   "id": "37b42d46",
   "metadata": {},
   "outputs": [
    {
     "name": "stdout",
     "output_type": "stream",
     "text": [
      "iteration 0, rewards mean: 12.9, best reward: 37.0\n",
      "iteration 25, rewards mean: 200.0, best reward: 200.0\n",
      "iteration 50, rewards mean: 200.0, best reward: 200.0\n",
      "iteration 75, rewards mean: 200.0, best reward: 200.0\n",
      "iteration 100, rewards mean: 200.0, best reward: 200.0\n",
      "iteration 125, rewards mean: 200.0, best reward: 200.0\n"
     ]
    },
    {
     "data": {
      "image/png": "[encoded data removed]",
      "text/plain": [
       "<Figure size 432x288 with 1 Axes>"
      ]
     },
     "metadata": {
      "needs_background": "light"
     },
     "output_type": "display_data"
    }
   ],
   "source": [
    "best_params, rewards, best_rewards = evolution_strategy_V2_adaptive(\n",
    "    f=evaluate,\n",
    "    children_size= 10,\n",
    "    sigma=0.9,\n",
    "    num_iters=150,\n",
    "    net=net,\n",
    "    parent_size= 2,\n",
    "    print_reward = True,\n",
    "    k = 5\n",
    "    \n",
    ")\n",
    "\n",
    "# plot the rewards per iteration\n",
    "plt.plot(rewards, label = 'mean')\n",
    "plt.plot(best_rewards, label = 'best reward')\n",
    "plt.legend()\n",
    "plt.show()"
   ]
  },
  {
   "cell_type": "code",
   "execution_count": 12,
   "id": "8551a4dc",
   "metadata": {},
   "outputs": [],
   "source": [
    "# render_agent(env, net)"
   ]
  },
  {
   "cell_type": "markdown",
   "id": "c96d8631",
   "metadata": {},
   "source": [
    "### self-adaptive single $\\sigma$"
   ]
  },
  {
   "cell_type": "code",
   "execution_count": 13,
   "id": "4798a909",
   "metadata": {},
   "outputs": [],
   "source": [
    "net = Net(env.observation_space.shape[0],env.action_space.n)"
   ]
  },
  {
   "cell_type": "code",
   "execution_count": 14,
   "id": "b99884db",
   "metadata": {},
   "outputs": [],
   "source": [
    "def evolution_strategy_V2_self_adaptive_one_sigma(\n",
    "    f,\n",
    "    children_size,\n",
    "    sigma,\n",
    "    num_iters,\n",
    "    net,\n",
    "    parent_size,\n",
    "    print_reward = False):\n",
    "    \n",
    "    \n",
    "    population_size = children_size\n",
    "    #assume initial params is a 1-D array\n",
    "    reward_per_iteration = np.zeros(num_iters)\n",
    "\n",
    "    #params = initial_params\n",
    "    param_vec = []\n",
    "    param_vec.append(nn.utils.parameters_to_vector(net.parameters()))\n",
    "    best_rewards = np.zeros(num_iters)\n",
    "\n",
    "    param_size = param_vec[0].size()[0]\n",
    "    lr = (1/math.sqrt(param_size))\n",
    "    print(\"lr\" , lr)\n",
    "    for t in range(num_iters):\n",
    "        N = np.random.randn(len(param_vec), population_size, param_size)\n",
    "        N = torch.from_numpy(N.astype(np.float32))\n",
    "        R = np.zeros((len(param_vec) ) * (population_size)) # stores the reward\n",
    "        \n",
    "        parent_indx = np.zeros((len(param_vec)) * (population_size) )\n",
    "        NN = []\n",
    "        index_counter = 0\n",
    "        \n",
    "        #loop through each parent\n",
    "        for i in range(len(param_vec)):\n",
    "            \n",
    "            # loop through each \"offspring\"\n",
    "            for j in range(population_size):\n",
    "                params_try = param_vec[i] + sigma*N[i][j]\n",
    "                nn.utils.vector_to_parameters(params_try, net.parameters())\n",
    "                R[index_counter], _ = f(env,net)\n",
    "                parent_indx[index_counter] = i\n",
    "                NN.append( N[i][j] )\n",
    "                index_counter += 1\n",
    "                \n",
    "\n",
    "        m = R.mean()\n",
    "             \n",
    "        reward_per_iteration[t] = m\n",
    "        top_index = np.argpartition(R, -parent_size)[-parent_size:]\n",
    "        param_vec2 = []\n",
    "        best_rewards[t] = max(R)\n",
    "\n",
    "        for i in top_index:\n",
    "            param_vec2.append(param_vec[int(parent_indx[i])].detach().numpy() + sigma * NN[i].detach().numpy())\n",
    "\n",
    "\n",
    "        param_vec.clear()\n",
    "        param_vec = param_vec2.copy()\n",
    "        param_vec2.clear()\n",
    "\n",
    "        for i in range(len(param_vec)):\n",
    "            param_vec[i] = torch.Tensor(param_vec[i])\n",
    "        if print_reward and t%25 == 0:\n",
    "            print(f\"iteration {t}, rewards mean: {m}, best reward: {max(R)}\")\n",
    "            \n",
    "        sigma = sigma * math.exp(lr * np.random.randn())\n",
    "        if sigma < 0.005:\n",
    "            sigma = 0.005    \n",
    "\n",
    "\n",
    "    return param_vec, reward_per_iteration, best_rewards"
   ]
  },
  {
   "cell_type": "code",
   "execution_count": 15,
   "id": "809ba985",
   "metadata": {
    "scrolled": true
   },
   "outputs": [
    {
     "name": "stdout",
     "output_type": "stream",
     "text": [
      "lr 0.13130643285972254\n",
      "iteration 0, rewards mean: 10.9, best reward: 23.0\n",
      "iteration 25, rewards mean: 146.05, best reward: 200.0\n",
      "iteration 50, rewards mean: 104.4, best reward: 200.0\n",
      "iteration 75, rewards mean: 115.65, best reward: 200.0\n",
      "iteration 100, rewards mean: 178.0, best reward: 200.0\n",
      "iteration 125, rewards mean: 195.65, best reward: 200.0\n"
     ]
    },
    {
     "data": {
      "image/png": "[encoded data removed]",
      "text/plain": [
       "<Figure size 432x288 with 1 Axes>"
      ]
     },
     "metadata": {
      "needs_background": "light"
     },
     "output_type": "display_data"
    }
   ],
   "source": [
    "best_params, rewards, best_rewards = evolution_strategy_V2_self_adaptive_one_sigma(\n",
    "    f=evaluate,\n",
    "    children_size= 10,\n",
    "    sigma=0.8,\n",
    "    num_iters=150,\n",
    "    net=net,\n",
    "    parent_size= 2,\n",
    "    print_reward = True\n",
    "\n",
    ")\n",
    "\n",
    "# plot the rewards per iteration\n",
    "plt.plot(rewards, label = 'mean')\n",
    "plt.plot(best_rewards, label = 'best reward')\n",
    "plt.legend()\n",
    "plt.show()"
   ]
  },
  {
   "cell_type": "code",
   "execution_count": 16,
   "id": "6e01c880",
   "metadata": {},
   "outputs": [],
   "source": [
    "# render_agent(env, net)"
   ]
  },
  {
   "cell_type": "markdown",
   "id": "e3d0aa1d",
   "metadata": {},
   "source": [
    "### Self-adaptive multiple $\\sigma$"
   ]
  },
  {
   "cell_type": "code",
   "execution_count": 17,
   "id": "d6d35715",
   "metadata": {},
   "outputs": [],
   "source": [
    "net = Net(env.observation_space.shape[0],env.action_space.n)"
   ]
  },
  {
   "cell_type": "code",
   "execution_count": 18,
   "id": "e8efcec1",
   "metadata": {},
   "outputs": [],
   "source": [
    "def evolution_strategy_V2_self_adaptive_multiple_sigma(\n",
    "    f,\n",
    "    children_size,\n",
    "    num_iters,\n",
    "    net,\n",
    "    parent_size,\n",
    "    print_reward = False):\n",
    "    \n",
    "    \n",
    "    population_size = children_size\n",
    "    # assume initial params is a 1-D array\n",
    "    reward_per_iteration = np.zeros(num_iters)\n",
    "\n",
    "    #params = initial_params\n",
    "    param_vec = []\n",
    "    param_vec.append(nn.utils.parameters_to_vector(net.parameters()))\n",
    "    best_rewards = np.zeros(num_iters)\n",
    "\n",
    "    param_size = param_vec[0].size()[0]\n",
    "    glr = 1/math.sqrt(param_size*2)\n",
    "    cwlr = 1/math.sqrt(2*math.sqrt(param_size))\n",
    "    sigmas = abs(np.random.randn(param_size))\n",
    "    \n",
    "    print(\"glr\" , glr, \"cwlr\", cwlr)  \n",
    "    for t in range(num_iters):\n",
    "        N = np.random.randn(len(param_vec), population_size, param_size)\n",
    "#         N = torch.from_numpy(N.astype(np.float32))\n",
    "        R = np.zeros((len(param_vec) ) * (population_size)) # stores the reward\n",
    "        \n",
    "        parent_indx = np.zeros((len(param_vec)) * (population_size ) )\n",
    "        NN = []\n",
    "        index_counter = 0\n",
    "        \n",
    "        #loop through each parent\n",
    "        for i in range(len(param_vec)):\n",
    "            \n",
    "            # loop through each \"offspring\"\n",
    "            for j in range(population_size):\n",
    "                params_try = param_vec[i].detach().numpy() + sigmas *N[i][j]\n",
    "                params_try = torch.from_numpy(params_try.astype(np.float32))\n",
    "                nn.utils.vector_to_parameters(params_try, net.parameters())\n",
    "                R[index_counter], _ = f(env,net)\n",
    "                parent_indx[index_counter] = i\n",
    "                NN.append( N[i][j] )\n",
    "                index_counter += 1\n",
    "\n",
    "\n",
    "        m = R.mean()\n",
    "\n",
    "        reward_per_iteration[t] = m\n",
    "        top_index = np.argpartition(R, -parent_size)[-parent_size:]\n",
    "        param_vec2 = []\n",
    "    \n",
    "        for i in top_index:\n",
    "            param_vec2.append(param_vec[int(parent_indx[i])].detach().numpy() + sigmas * NN[i])\n",
    "\n",
    "\n",
    "        param_vec.clear()\n",
    "        param_vec = param_vec2.copy()\n",
    "        param_vec2.clear()\n",
    "        best_rewards[t] = max(R)\n",
    "\n",
    "        for i in range(len(param_vec)):\n",
    "            param_vec[i] = torch.Tensor(param_vec[i])\n",
    "        if print_reward and t%25 == 0:\n",
    "            print(f\"iteration {t}, rewards mean: {m}, best reward: {max(R)}\")\n",
    "            \n",
    "        for j in range(param_size):\n",
    "            \n",
    "            sigmas[j] = sigmas[j] * math.exp(glr * np.random.randn() *0.5 + cwlr * np.random.randn() * 0.5)\n",
    "            \n",
    "            if sigmas[j] < 0.005:\n",
    "                sigmas[j] = 0.005 \n",
    "\n",
    "\n",
    "    return param_vec, reward_per_iteration, best_rewards"
   ]
  },
  {
   "cell_type": "code",
   "execution_count": 19,
   "id": "15308d7f",
   "metadata": {},
   "outputs": [
    {
     "name": "stdout",
     "output_type": "stream",
     "text": [
      "glr 0.09284766908852593 cwlr 0.25622883606233954\n",
      "iteration 0, rewards mean: 25.0, best reward: 138.0\n",
      "iteration 25, rewards mean: 147.45, best reward: 200.0\n",
      "iteration 50, rewards mean: 143.75, best reward: 200.0\n",
      "iteration 75, rewards mean: 166.95, best reward: 200.0\n",
      "iteration 100, rewards mean: 161.9, best reward: 200.0\n",
      "iteration 125, rewards mean: 195.6, best reward: 200.0\n"
     ]
    },
    {
     "data": {
      "image/png": "[encoded data removed]",
      "text/plain": [
       "<Figure size 432x288 with 1 Axes>"
      ]
     },
     "metadata": {
      "needs_background": "light"
     },
     "output_type": "display_data"
    }
   ],
   "source": [
    "best_params, rewards, best_rewards = evolution_strategy_V2_self_adaptive_multiple_sigma(\n",
    "    f=evaluate,\n",
    "    children_size= 10,\n",
    "    num_iters=150,\n",
    "    net=net, \n",
    "    parent_size= 2,\n",
    "    print_reward = True)\n",
    "\n",
    "# plot the rewards per iteration\n",
    "plt.plot(rewards, label = 'mean')\n",
    "plt.plot(best_rewards, label = 'best reward')\n",
    "plt.legend()\n",
    "plt.show()"
   ]
  },
  {
   "cell_type": "code",
   "execution_count": 20,
   "id": "bb23ab75",
   "metadata": {},
   "outputs": [],
   "source": [
    "# render_agent(env, net)"
   ]
  },
  {
   "cell_type": "markdown",
   "id": "8978e889",
   "metadata": {},
   "source": [
    " "
   ]
  },
  {
   "cell_type": "markdown",
   "id": "f0629f98",
   "metadata": {},
   "source": [
    "## ($\\mu$+$\\lambda$)ES"
   ]
  },
  {
   "cell_type": "markdown",
   "id": "7360687f",
   "metadata": {},
   "source": [
    "## Static"
   ]
  },
  {
   "cell_type": "code",
   "execution_count": 21,
   "id": "76f36993",
   "metadata": {},
   "outputs": [],
   "source": [
    "net = Net(env.observation_space.shape[0],env.action_space.n)"
   ]
  },
  {
   "cell_type": "code",
   "execution_count": 22,
   "id": "9bb7980f",
   "metadata": {},
   "outputs": [],
   "source": [
    "def evolution_strategy_V2(\n",
    "    f,\n",
    "    children_size,\n",
    "    sigma,\n",
    "    num_iters,\n",
    "    net,\n",
    "    parent_size,\n",
    "    print_reward = False):\n",
    "    \n",
    "    population_size = children_size\n",
    "    #assume initial params is a 1-D array\n",
    "    reward_per_iteration = np.zeros(num_iters)\n",
    "    best_rewards = np.zeros(num_iters)\n",
    "\n",
    "    #params = initial_params\n",
    "    param_vec = []\n",
    "    param_vec.append(nn.utils.parameters_to_vector(net.parameters()))\n",
    "    \n",
    "    param_size = param_vec[0].size()[0]\n",
    "    \n",
    "    for t in range(num_iters):\n",
    "        N = np.random.randn(len(param_vec), population_size, param_size)\n",
    "        N = torch.from_numpy(N.astype(np.float32))\n",
    "        R = np.zeros((len(param_vec) ) * (population_size + 1)) # stores the reward\n",
    "        \n",
    "        parent_indx = np.zeros((len(param_vec)) * (population_size +1) )\n",
    "        NN = []\n",
    "        index_counter = 0\n",
    "        \n",
    "        #loop through each parent\n",
    "        for i in range(len(param_vec)):\n",
    "            \n",
    "            # loop through each \"offspring\"\n",
    "            for j in range(population_size):\n",
    "                params_try = param_vec[i] + sigma*N[i][j]\n",
    "                nn.utils.vector_to_parameters(params_try, net.parameters())\n",
    "                R[index_counter], _ = f(env,net)\n",
    "                parent_indx[index_counter] = i\n",
    "                NN.append( N[i][j] )\n",
    "                index_counter += 1\n",
    "                \n",
    "            #add parent to list \n",
    "            nn.utils.vector_to_parameters(param_vec[i], net.parameters())\n",
    "            R[index_counter], _ = f(env,net)\n",
    "            parent_indx[index_counter] = i\n",
    "            NN.append(torch.from_numpy(np.array([0]).astype(np.float32)))\n",
    "            index_counter += 1\n",
    "            \n",
    "        m = R.mean()\n",
    "\n",
    "        reward_per_iteration[t] = m\n",
    "        top_index = np.argpartition(R, -parent_size)[-parent_size:]\n",
    "        param_vec2 = []\n",
    "        best_rewards[t] = max(R)\n",
    "\n",
    "        for i in top_index:\n",
    "            param_vec2.append(param_vec[int(parent_indx[i])].detach().numpy() + sigma * NN[i].detach().numpy())\n",
    "\n",
    "\n",
    "        param_vec.clear()\n",
    "        param_vec = param_vec2.copy()\n",
    "        param_vec2.clear()\n",
    "                \n",
    "        for i in range(len(param_vec)):\n",
    "            param_vec[i] = torch.Tensor(param_vec[i])\n",
    "        if print_reward and t%25 == 0:\n",
    "            print(f\"iteration {t}, rewards mean: {m}, best reward: {max(R)}\")\n",
    "\n",
    "    return param_vec, reward_per_iteration, best_rewards"
   ]
  },
  {
   "cell_type": "code",
   "execution_count": 23,
   "id": "774329fb",
   "metadata": {},
   "outputs": [
    {
     "name": "stdout",
     "output_type": "stream",
     "text": [
      "iteration 0, rewards mean: 11.272727272727273, best reward: 19.0\n",
      "iteration 25, rewards mean: 116.77272727272727, best reward: 200.0\n",
      "iteration 50, rewards mean: 153.04545454545453, best reward: 200.0\n",
      "iteration 75, rewards mean: 135.0909090909091, best reward: 200.0\n",
      "iteration 100, rewards mean: 150.13636363636363, best reward: 200.0\n",
      "iteration 125, rewards mean: 158.4090909090909, best reward: 200.0\n"
     ]
    },
    {
     "data": {
      "image/png": "[encoded data removed]",
      "text/plain": [
       "<Figure size 432x288 with 1 Axes>"
      ]
     },
     "metadata": {
      "needs_background": "light"
     },
     "output_type": "display_data"
    }
   ],
   "source": [
    "best_params, rewards, best_rewards = evolution_strategy_V2(\n",
    "    f=evaluate,\n",
    "    children_size= 10,\n",
    "    sigma=1,\n",
    "    num_iters=150,\n",
    "    net=net,\n",
    "    parent_size= 2,\n",
    "    print_reward = True,\n",
    "    \n",
    ")\n",
    "\n",
    "# plot the rewards per iteration\n",
    "plt.plot(rewards, label = 'mean')\n",
    "plt.plot(best_rewards, label = 'best reward')\n",
    "plt.legend()\n",
    "plt.show()"
   ]
  },
  {
   "cell_type": "code",
   "execution_count": 24,
   "id": "924dd446",
   "metadata": {},
   "outputs": [],
   "source": [
    "# render_agent(env, net)"
   ]
  },
  {
   "cell_type": "markdown",
   "id": "6b4eeab4",
   "metadata": {},
   "source": [
    "### Adaptive: 1/5 rule"
   ]
  },
  {
   "cell_type": "code",
   "execution_count": 25,
   "id": "4a1e91b7",
   "metadata": {},
   "outputs": [],
   "source": [
    "net = Net(env.observation_space.shape[0],env.action_space.n)"
   ]
  },
  {
   "cell_type": "code",
   "execution_count": 26,
   "id": "d664191b",
   "metadata": {},
   "outputs": [],
   "source": [
    "def evolution_strategy_V2_adaptive(\n",
    "    f,\n",
    "    children_size,\n",
    "    sigma,\n",
    "    num_iters,\n",
    "    net,\n",
    "    parent_size,\n",
    "    print_reward = False,\n",
    "    k = 10,\n",
    "    C = 0.8):\n",
    "    \n",
    "    population_size = children_size\n",
    "    #assume initial params is a 1-D array\n",
    "    reward_per_iteration = np.zeros(num_iters)\n",
    "    best_rewards = np.zeros(num_iters)\n",
    "\n",
    "    #params = initial_params\n",
    "    param_vec = []\n",
    "    param_vec.append(nn.utils.parameters_to_vector(net.parameters()))\n",
    "    \n",
    "    param_size = param_vec[0].size()[0]\n",
    "    \n",
    "    for t in range(num_iters):\n",
    "        N = np.random.randn(len(param_vec), population_size, param_size)\n",
    "        N = torch.from_numpy(N.astype(np.float32))\n",
    "        R = np.zeros((len(param_vec) ) * (population_size + 1)) # stores the reward\n",
    "        \n",
    "        parent_indx = np.zeros((len(param_vec)) * (population_size +1) )\n",
    "        NN = []\n",
    "        index_counter = 0\n",
    "        \n",
    "        #loop through each parent\n",
    "        for i in range(len(param_vec)):\n",
    "            \n",
    "            # loop through each \"offspring\"\n",
    "            for j in range(population_size):\n",
    "                params_try = param_vec[i] + sigma*N[i][j]\n",
    "                nn.utils.vector_to_parameters(params_try, net.parameters())\n",
    "                R[index_counter], _ = f(env,net)\n",
    "                parent_indx[index_counter] = i\n",
    "                NN.append( N[i][j] )\n",
    "                index_counter += 1\n",
    "                \n",
    "            #add parent to list \n",
    "            nn.utils.vector_to_parameters(param_vec[i], net.parameters())\n",
    "            R[index_counter], _ = f(env,net)\n",
    "            parent_indx[index_counter] = i\n",
    "            NN.append(torch.from_numpy(np.array([0]).astype(np.float32)))\n",
    "            index_counter += 1\n",
    "        \n",
    "\n",
    "        m = R.mean()\n",
    "        \n",
    "        reward_per_iteration[t] = m\n",
    "        top_index = np.argpartition(R, -parent_size)[-parent_size:]\n",
    "        param_vec2 = []\n",
    "        best_rewards[t] = max(R)\n",
    "\n",
    "        for i in top_index:\n",
    "            param_vec2.append(param_vec[int(parent_indx[i])].detach().numpy() + sigma * NN[i].detach().numpy())\n",
    "\n",
    "\n",
    "        param_vec.clear()\n",
    "        param_vec = param_vec2.copy()\n",
    "        param_vec2.clear()\n",
    "\n",
    "        for i in range(len(param_vec)):\n",
    "            param_vec[i] = torch.Tensor(param_vec[i])\n",
    "        if print_reward and t%25 == 0:\n",
    "            print(f\"iteration {t}, rewards mean: {m}, best reward: {max(R)}\")\n",
    "            \n",
    "            \n",
    "        if t % k == 0:\n",
    "            av_k = (np.array(reward_per_iteration[-k-1:-1])/m).astype('int32').sum()\n",
    "            if  av_k > 1/5:\n",
    "                sigma = sigma/C\n",
    "            elif av_k < 1/5:\n",
    "                sigma = sigma*C\n",
    "\n",
    "    return param_vec, reward_per_iteration, best_rewards"
   ]
  },
  {
   "cell_type": "code",
   "execution_count": 27,
   "id": "e1c52e2e",
   "metadata": {},
   "outputs": [
    {
     "name": "stdout",
     "output_type": "stream",
     "text": [
      "iteration 0, rewards mean: 19.0, best reward: 49.0\n",
      "iteration 25, rewards mean: 153.86363636363637, best reward: 200.0\n",
      "iteration 50, rewards mean: 199.0909090909091, best reward: 200.0\n",
      "iteration 75, rewards mean: 199.8181818181818, best reward: 200.0\n",
      "iteration 100, rewards mean: 200.0, best reward: 200.0\n",
      "iteration 125, rewards mean: 198.77272727272728, best reward: 200.0\n"
     ]
    },
    {
     "data": {
      "image/png": "[encoded data removed]",
      "text/plain": [
       "<Figure size 432x288 with 1 Axes>"
      ]
     },
     "metadata": {
      "needs_background": "light"
     },
     "output_type": "display_data"
    }
   ],
   "source": [
    "best_params, rewards, best_rewards = evolution_strategy_V2_adaptive(\n",
    "    f=evaluate,\n",
    "    children_size= 10,\n",
    "    sigma=0.9,\n",
    "    num_iters=150,\n",
    "    net=net,\n",
    "    parent_size= 2,\n",
    "    print_reward = True,\n",
    "    k = 5\n",
    "    \n",
    ")\n",
    "\n",
    "# plot the rewards per iteration\n",
    "plt.plot(rewards, label = 'mean')\n",
    "plt.plot(best_rewards, label = 'best reward')\n",
    "plt.legend()\n",
    "plt.show()"
   ]
  },
  {
   "cell_type": "code",
   "execution_count": 28,
   "id": "65d2baa2",
   "metadata": {},
   "outputs": [],
   "source": [
    "# render_agent(env, net)"
   ]
  },
  {
   "cell_type": "markdown",
   "id": "9c00a975",
   "metadata": {},
   "source": [
    "### self-adaptive single $\\sigma$"
   ]
  },
  {
   "cell_type": "code",
   "execution_count": 29,
   "id": "1092ed7e",
   "metadata": {},
   "outputs": [],
   "source": [
    "net = Net(env.observation_space.shape[0],env.action_space.n)"
   ]
  },
  {
   "cell_type": "code",
   "execution_count": 30,
   "id": "34facf95",
   "metadata": {},
   "outputs": [],
   "source": [
    "def evolution_strategy_V2_self_adaptive_one_sigma(\n",
    "    f,\n",
    "    children_size,\n",
    "    sigma,\n",
    "    num_iters,\n",
    "    net,\n",
    "    parent_size,\n",
    "    print_reward = False):\n",
    "    \n",
    "    \n",
    "    population_size = children_size\n",
    "    #assume initial params is a 1-D array\n",
    "    reward_per_iteration = np.zeros(num_iters)\n",
    "\n",
    "    #params = initial_params\n",
    "    param_vec = []\n",
    "    param_vec.append(nn.utils.parameters_to_vector(net.parameters()))\n",
    "    best_rewards = np.zeros(num_iters)\n",
    "\n",
    "    param_size = param_vec[0].size()[0]\n",
    "    #parent_indx = []\n",
    "    lr = (1/math.sqrt(param_size))\n",
    "    print(\"lr\" , lr)\n",
    "    for t in range(num_iters):\n",
    "        N = np.random.randn(len(param_vec), population_size, param_size)\n",
    "        N = torch.from_numpy(N.astype(np.float32))\n",
    "        R = np.zeros((len(param_vec) ) * (population_size + 1)) # stores the reward\n",
    "        \n",
    "        parent_indx = np.zeros((len(param_vec)) * (population_size +1) )\n",
    "        NN = []\n",
    "        index_counter = 0\n",
    "        \n",
    "        #loop through each parent\n",
    "        for i in range(len(param_vec)):\n",
    "            \n",
    "            # loop through each \"offspring\"\n",
    "            for j in range(population_size):\n",
    "                params_try = param_vec[i] + sigma*N[i][j]\n",
    "                nn.utils.vector_to_parameters(params_try, net.parameters())\n",
    "                R[index_counter], _ = f(env,net)\n",
    "                parent_indx[index_counter] = i\n",
    "                NN.append( N[i][j] )\n",
    "                index_counter += 1\n",
    "                \n",
    "            #add parent to list \n",
    "            nn.utils.vector_to_parameters(param_vec[i], net.parameters())\n",
    "            R[index_counter], _ = f(env,net)\n",
    "            parent_indx[index_counter] = i\n",
    "            NN.append(torch.from_numpy(np.array([0]).astype(np.float32)))\n",
    "            index_counter += 1\n",
    "\n",
    "        m = R.mean()\n",
    "\n",
    "        reward_per_iteration[t] = m\n",
    "        top_index = np.argpartition(R, -parent_size)[-parent_size:]\n",
    "        param_vec2 = []\n",
    "        best_rewards[t] = max(R)\n",
    "\n",
    "        for i in top_index:\n",
    "            param_vec2.append(param_vec[int(parent_indx[i])].detach().numpy() + sigma * NN[i].detach().numpy())\n",
    "\n",
    "\n",
    "        param_vec.clear()\n",
    "        param_vec = param_vec2.copy()\n",
    "        param_vec2.clear()\n",
    "\n",
    "        for i in range(len(param_vec)):\n",
    "            param_vec[i] = torch.Tensor(param_vec[i])\n",
    "        if print_reward and t%25 == 0:\n",
    "            print(f\"iteration {t}, rewards mean: {m}, best reward: {max(R)}\")\n",
    "            \n",
    "        sigma = sigma * math.exp(lr * np.random.randn())\n",
    "        if sigma < 0.005:\n",
    "            sigma = 0.005    \n",
    "\n",
    "\n",
    "    return param_vec, reward_per_iteration, best_rewards"
   ]
  },
  {
   "cell_type": "code",
   "execution_count": 31,
   "id": "b045b9a8",
   "metadata": {
    "scrolled": true
   },
   "outputs": [
    {
     "name": "stdout",
     "output_type": "stream",
     "text": [
      "lr 0.13130643285972254\n",
      "iteration 0, rewards mean: 33.54545454545455, best reward: 136.0\n",
      "iteration 25, rewards mean: 131.54545454545453, best reward: 200.0\n",
      "iteration 50, rewards mean: 157.6818181818182, best reward: 200.0\n",
      "iteration 75, rewards mean: 186.72727272727272, best reward: 200.0\n",
      "iteration 100, rewards mean: 129.45454545454547, best reward: 200.0\n",
      "iteration 125, rewards mean: 182.45454545454547, best reward: 200.0\n"
     ]
    },
    {
     "data": {
      "image/png": "[encoded data removed]",
      "text/plain": [
       "<Figure size 432x288 with 1 Axes>"
      ]
     },
     "metadata": {
      "needs_background": "light"
     },
     "output_type": "display_data"
    }
   ],
   "source": [
    "best_params, rewards, best_rewards = evolution_strategy_V2_self_adaptive_one_sigma(\n",
    "    f=evaluate,\n",
    "    children_size= 10,\n",
    "    sigma=0.8,\n",
    "    num_iters=150,\n",
    "    net=net,\n",
    "    parent_size= 2,\n",
    "    print_reward = True\n",
    "\n",
    ")\n",
    "\n",
    "# plot the rewards per iteration\n",
    "plt.plot(rewards, label = 'mean')\n",
    "plt.plot(best_rewards, label = 'best reward')\n",
    "plt.legend()\n",
    "plt.show()"
   ]
  },
  {
   "cell_type": "code",
   "execution_count": 32,
   "id": "acab0886",
   "metadata": {},
   "outputs": [],
   "source": [
    "# render_agent(env, net)"
   ]
  },
  {
   "cell_type": "markdown",
   "id": "cbd775fd",
   "metadata": {},
   "source": [
    "### Self-adaptive multiple $\\sigma$"
   ]
  },
  {
   "cell_type": "code",
   "execution_count": 33,
   "id": "80e09461",
   "metadata": {},
   "outputs": [],
   "source": [
    "net = Net(env.observation_space.shape[0],env.action_space.n)"
   ]
  },
  {
   "cell_type": "code",
   "execution_count": 34,
   "id": "a84c317b",
   "metadata": {},
   "outputs": [],
   "source": [
    "def evolution_strategy_V2_self_adaptive_multiple_sigma(\n",
    "    f,\n",
    "    children_size,\n",
    "    num_iters,\n",
    "    net,\n",
    "    parent_size,\n",
    "    print_reward = False):\n",
    "    \n",
    "    \n",
    "    population_size = children_size\n",
    "    # assume initial params is a 1-D array\n",
    "    reward_per_iteration = np.zeros(num_iters)\n",
    "\n",
    "    #params = initial_params\n",
    "    param_vec = []\n",
    "    param_vec.append(nn.utils.parameters_to_vector(net.parameters()))\n",
    "    best_rewards = np.zeros(num_iters)\n",
    "\n",
    "    param_size = param_vec[0].size()[0]\n",
    "    glr = 1/math.sqrt(param_size*2)\n",
    "    cwlr = 1/math.sqrt(2*math.sqrt(param_size))\n",
    "    sigmas = abs(np.random.randn(param_size))\n",
    "    \n",
    "    print(\"glr\" , glr, \"cwlr\", cwlr)  \n",
    "    for t in range(num_iters):\n",
    "        N = np.random.randn(len(param_vec), population_size, param_size)\n",
    "#         N = torch.from_numpy(N.astype(np.float32))\n",
    "        R = np.zeros((len(param_vec) ) * (population_size + 1)) # stores the reward\n",
    "        \n",
    "        parent_indx = np.zeros((len(param_vec)) * (population_size +1) )\n",
    "        NN = []\n",
    "        index_counter = 0\n",
    "        \n",
    "        #loop through each parent\n",
    "        for i in range(len(param_vec)):\n",
    "            \n",
    "            # loop through each \"offspring\"\n",
    "            for j in range(population_size):\n",
    "                params_try = param_vec[i].detach().numpy() + sigmas *N[i][j]\n",
    "                params_try = torch.from_numpy(params_try.astype(np.float32))\n",
    "                nn.utils.vector_to_parameters(params_try, net.parameters())\n",
    "                R[index_counter], _ = f(env,net)\n",
    "                parent_indx[index_counter] = i\n",
    "                NN.append( N[i][j] )\n",
    "                index_counter += 1\n",
    "                \n",
    "            #add parent to list \n",
    "            nn.utils.vector_to_parameters(param_vec[i], net.parameters())\n",
    "            R[index_counter], _ = f(env,net)\n",
    "            parent_indx[index_counter] = i\n",
    "            NN.append(np.array([0]))\n",
    "            index_counter += 1\n",
    "\n",
    "        m = R.mean()\n",
    "             \n",
    "        reward_per_iteration[t] = m\n",
    "        top_index = np.argpartition(R, -parent_size)[-parent_size:]\n",
    "        param_vec2 = []\n",
    "    \n",
    "        for i in top_index:\n",
    "            param_vec2.append(param_vec[int(parent_indx[i])].detach().numpy() + sigmas * NN[i])\n",
    "\n",
    "\n",
    "        param_vec.clear()\n",
    "        param_vec = param_vec2.copy()\n",
    "        param_vec2.clear()\n",
    "        best_rewards[t] = max(R)\n",
    "\n",
    "        for i in range(len(param_vec)):\n",
    "            param_vec[i] = torch.Tensor(param_vec[i])\n",
    "        if print_reward and t%25 == 0:\n",
    "            print(f\"iteration {t}, rewards mean: {m}, best reward: {max(R)}\")\n",
    "            \n",
    "        for j in range(param_size):\n",
    "            \n",
    "            sigmas[j] = sigmas[j] * math.exp(glr * np.random.randn() *0.5 + cwlr * np.random.randn() * 0.5)\n",
    "            \n",
    "            if sigmas[j] < 0.005:\n",
    "                sigmas[j] = 0.005 \n",
    "\n",
    "\n",
    "    return param_vec, reward_per_iteration, best_rewards"
   ]
  },
  {
   "cell_type": "code",
   "execution_count": 35,
   "id": "062f1403",
   "metadata": {},
   "outputs": [
    {
     "name": "stdout",
     "output_type": "stream",
     "text": [
      "glr 0.09284766908852593 cwlr 0.25622883606233954\n",
      "iteration 0, rewards mean: 14.0, best reward: 60.0\n",
      "iteration 25, rewards mean: 95.5909090909091, best reward: 200.0\n",
      "iteration 50, rewards mean: 58.86363636363637, best reward: 200.0\n",
      "iteration 75, rewards mean: 74.63636363636364, best reward: 200.0\n",
      "iteration 100, rewards mean: 118.0909090909091, best reward: 200.0\n",
      "iteration 125, rewards mean: 99.22727272727273, best reward: 200.0\n"
     ]
    },
    {
     "data": {
      "image/png": "[encoded data removed]",
      "text/plain": [
       "<Figure size 432x288 with 1 Axes>"
      ]
     },
     "metadata": {
      "needs_background": "light"
     },
     "output_type": "display_data"
    }
   ],
   "source": [
    "best_params, rewards, best_rewards = evolution_strategy_V2_self_adaptive_multiple_sigma(\n",
    "    f=evaluate,\n",
    "    children_size= 10,\n",
    "    num_iters=150,\n",
    "    net=net, \n",
    "    parent_size= 2,\n",
    "    print_reward = True)\n",
    "\n",
    "# plot the rewards per iteration\n",
    "plt.plot(rewards, label = 'mean')\n",
    "plt.plot(best_rewards, label = 'best reward')\n",
    "plt.legend()\n",
    "plt.show()"
   ]
  },
  {
   "cell_type": "code",
   "execution_count": 36,
   "id": "a3f92503",
   "metadata": {},
   "outputs": [],
   "source": [
    "# render_agent(env, net)"
   ]
  },
  {
   "cell_type": "code",
   "execution_count": null,
   "id": "ce1990a0",
   "metadata": {},
   "outputs": [],
   "source": []
  }
 ],
 "metadata": {
  "kernelspec": {
   "display_name": "Python [conda env:DL] *",
   "language": "python",
   "name": "conda-env-DL-py"
  },
  "language_info": {
   "codemirror_mode": {
    "name": "ipython",
    "version": 3
   },
   "file_extension": ".py",
   "mimetype": "text/x-python",
   "name": "python",
   "nbconvert_exporter": "python",
   "pygments_lexer": "ipython3",
   "version": "3.8.10"
  }
 },
 "nbformat": 4,
 "nbformat_minor": 5
}
